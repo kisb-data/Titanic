{
 "cells": [
  {
   "cell_type": "markdown",
   "metadata": {},
   "source": [
    "### Import Titanic dataset"
   ]
  },
  {
   "cell_type": "code",
   "execution_count": null,
   "metadata": {},
   "outputs": [],
   "source": [
    "import joblib\n",
    "\n",
    "data = joblib.load( 'preprocessed_data\\\\Titanic.pkl')"
   ]
  },
  {
   "cell_type": "markdown",
   "metadata": {},
   "source": [
    "### Split train/test"
   ]
  },
  {
   "cell_type": "code",
   "execution_count": null,
   "metadata": {},
   "outputs": [],
   "source": [
    "from sklearn.model_selection import train_test_split\n",
    "X_train, X_test, y_train, y_test = train_test_split(data[\"X_encoded_scaled\"], data[\"y\"], test_size=0.33, random_state=42)"
   ]
  },
  {
   "cell_type": "markdown",
   "metadata": {},
   "source": [
    "### Manually optimise KNeighborsClassifier"
   ]
  },
  {
   "cell_type": "code",
   "execution_count": null,
   "metadata": {},
   "outputs": [
    {
     "name": "stdout",
     "output_type": "stream",
     "text": [
      "Train ACC:  0.8763102725366876\n",
      "Test ACC:  0.7531914893617021\n"
     ]
    }
   ],
   "source": [
    "from sklearn.neighbors import KNeighborsClassifier\n",
    "from sklearn.metrics import accuracy_score\n",
    "import pandas as pd\n",
    "\n",
    "model = KNeighborsClassifier(n_neighbors=4)\n",
    "model.fit(X_train, y_train)\n",
    "pred_train = model.predict(X_train)\n",
    "pred_test = model.predict(X_test)\n",
    "\n",
    "print(\"Train ACC: \", accuracy_score(y_train, pred_train))\n",
    "print(\"Test ACC: \", accuracy_score(y_test, pred_test))"
   ]
  },
  {
   "cell_type": "markdown",
   "metadata": {},
   "source": [
    "### Manually optimise LogisticRegressionCV"
   ]
  },
  {
   "cell_type": "code",
   "execution_count": null,
   "metadata": {},
   "outputs": [
    {
     "name": "stdout",
     "output_type": "stream",
     "text": [
      "Train ACC:  0.80083857442348\n",
      "Test ACC:  0.774468085106383\n",
      "[[-0.12552717 -0.03885567  0.01571415  0.15786233  0.70765582 -0.70865332\n",
      "   0.14290085  0.00519813 -0.14909648  0.45604628  0.05222794 -0.50927172]]\n"
     ]
    }
   ],
   "source": [
    "from sklearn.linear_model import LogisticRegressionCV\n",
    "from sklearn.metrics import accuracy_score\n",
    "\n",
    "model = LogisticRegressionCV(Cs=30, cv=5)\n",
    "model.fit(X_train, y_train)\n",
    "pred_train = model.predict(X_train)\n",
    "pred_test = model.predict(X_test)\n",
    "\n",
    "print(\"Train ACC: \", accuracy_score(y_train, pred_train))\n",
    "print(\"Test ACC: \", accuracy_score(y_test, pred_test))\n",
    "print(model.coef_)"
   ]
  },
  {
   "cell_type": "markdown",
   "metadata": {},
   "source": [
    "### Manually optimise RidgeClassifier"
   ]
  },
  {
   "cell_type": "code",
   "execution_count": null,
   "metadata": {},
   "outputs": [
    {
     "name": "stdout",
     "output_type": "stream",
     "text": [
      "Train ACC:  0.7966457023060797\n",
      "Test ACC:  0.7702127659574468\n",
      "[[-0.47465743 -0.20538754 -0.03944586 -0.03425986  0.4876189  -0.4876189\n",
      "   0.04190594  0.03060815 -0.07251409  0.41683141 -0.02273264 -0.39409877]]\n"
     ]
    }
   ],
   "source": [
    "from sklearn.linear_model import RidgeClassifier\n",
    "from sklearn.metrics import accuracy_score\n",
    "\n",
    "model = RidgeClassifier(alpha=10)\n",
    "model.fit(X_train, y_train)\n",
    "pred_train = model.predict(X_train)\n",
    "pred_test = model.predict(X_test)\n",
    "\n",
    "print(\"Train ACC: \", accuracy_score(y_train, pred_train))\n",
    "print(\"Test ACC: \", accuracy_score(y_test, pred_test))\n",
    "print(model.coef_)"
   ]
  },
  {
   "cell_type": "markdown",
   "metadata": {},
   "source": [
    "### Manually optimise LinearSVC"
   ]
  },
  {
   "cell_type": "code",
   "execution_count": null,
   "metadata": {},
   "outputs": [
    {
     "name": "stdout",
     "output_type": "stream",
     "text": [
      "Train ACC:  0.80083857442348\n",
      "Test ACC:  0.7531914893617021\n",
      "[[-0.97074235 -0.44997749  0.         -0.21974895  1.03481358  0.\n",
      "   0.026717    0.02645174 -0.06157468  0.63592973  0.         -0.42371164]]\n"
     ]
    }
   ],
   "source": [
    "from sklearn.svm import LinearSVC\n",
    "from sklearn.metrics import accuracy_score\n",
    "\n",
    "model = LinearSVC(penalty='l1')\n",
    "model.fit(X_train, y_train)\n",
    "pred_train = model.predict(X_train)\n",
    "pred_test = model.predict(X_test)\n",
    "\n",
    "print(\"Train ACC: \", accuracy_score(y_train, pred_train))\n",
    "print(\"Test ACC: \", accuracy_score(y_test, pred_test))\n",
    "print(model.coef_)"
   ]
  },
  {
   "cell_type": "markdown",
   "metadata": {},
   "source": [
    "## Best result is:\n",
    "### LogisticRegressionCV \n",
    "### Train ACC:  0.80083857442348\n",
    "### Test ACC:  0.774468085106383"
   ]
  }
 ],
 "metadata": {
  "kernelspec": {
   "display_name": "Env_b",
   "language": "python",
   "name": "python3"
  },
  "language_info": {
   "codemirror_mode": {
    "name": "ipython",
    "version": 3
   },
   "file_extension": ".py",
   "mimetype": "text/x-python",
   "name": "python",
   "nbconvert_exporter": "python",
   "pygments_lexer": "ipython3",
   "version": "3.12.7"
  }
 },
 "nbformat": 4,
 "nbformat_minor": 2
}
