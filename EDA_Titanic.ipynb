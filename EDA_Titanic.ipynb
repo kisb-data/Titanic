{
 "cells": [
  {
   "cell_type": "markdown",
   "metadata": {},
   "source": [
    "Import dataset"
   ]
  },
  {
   "cell_type": "code",
   "execution_count": null,
   "metadata": {},
   "outputs": [
    {
     "name": "stdout",
     "output_type": "stream",
     "text": [
      "   PassengerId  Survived  Pclass  \\\n",
      "0            1         0       3   \n",
      "1            2         1       1   \n",
      "2            3         1       3   \n",
      "3            4         1       1   \n",
      "4            5         0       3   \n",
      "\n",
      "                                                Name     Sex   Age  SibSp  \\\n",
      "0                            Braund, Mr. Owen Harris    male  22.0      1   \n",
      "1  Cumings, Mrs. John Bradley (Florence Briggs Th...  female  38.0      1   \n",
      "2                             Heikkinen, Miss. Laina  female  26.0      0   \n",
      "3       Futrelle, Mrs. Jacques Heath (Lily May Peel)  female  35.0      1   \n",
      "4                           Allen, Mr. William Henry    male  35.0      0   \n",
      "\n",
      "   Parch            Ticket     Fare Cabin Embarked  \n",
      "0      0         A/5 21171   7.2500   NaN        S  \n",
      "1      0          PC 17599  71.2833   C85        C  \n",
      "2      0  STON/O2. 3101282   7.9250   NaN        S  \n",
      "3      0            113803  53.1000  C123        S  \n",
      "4      0            373450   8.0500   NaN        S  \n",
      "(891, 12)\n",
      "(418, 11)\n",
      "(1309, 12)\n"
     ]
    }
   ],
   "source": [
    "import pandas as pd\n",
    "import os\n",
    "from ydata_profiling import ProfileReport\n",
    "from scripts import DProcess_lib\n",
    "\n",
    "# Create the directory if it does not exist\n",
    "'''directory_name = \"EDA_report_Titanic\"\n",
    "if not os.path.exists(directory_name):\n",
    "    os.makedirs(directory_name)'''\n",
    "\n",
    "# Import data\n",
    "data_path_train = \"data_Titanic/train.csv\"\n",
    "data_path_test = \"data_Titanic/test.csv\"\n",
    "df_train = pd.read_csv(data_path_train)\n",
    "df_test = pd.read_csv(data_path_test)\n",
    "\n",
    "# Generate the data profiling report\n",
    "'''path = \"EDA_reports/Titanic_report.html\"\n",
    "if not os.path.exists(path):\n",
    "    report = ProfileReport(df, title='Titanic Data')\n",
    "    report.to_file(path)'''\n",
    "\n",
    "print(df_train.head(5))\n",
    "\n",
    "df = pd.concat([df_train, df_test])\n",
    "\n",
    "print(df_train.shape)\n",
    "print(df_test.shape)\n",
    "print(df.shape)"
   ]
  },
  {
   "cell_type": "markdown",
   "metadata": {},
   "source": [
    "set id as index"
   ]
  },
  {
   "cell_type": "code",
   "execution_count": 20,
   "metadata": {},
   "outputs": [
    {
     "name": "stdout",
     "output_type": "stream",
     "text": [
      "Survived     418\n",
      "Pclass         0\n",
      "Name           0\n",
      "Sex            0\n",
      "Age          263\n",
      "SibSp          0\n",
      "Parch          0\n",
      "Ticket         0\n",
      "Fare           1\n",
      "Cabin       1014\n",
      "Embarked       2\n",
      "dtype: int64\n"
     ]
    }
   ],
   "source": [
    "# set PassengerId as index\n",
    "df = df.set_index('PassengerId', drop=True)\n",
    "\n",
    "# check nans\n",
    "print(df.isna().sum())\n"
   ]
  },
  {
   "cell_type": "markdown",
   "metadata": {},
   "source": [
    "remove unwanted data (Name=> not relevant, Cabin=> not relevant and contain lot of missing data, Ticket=> Pclass contain the important ticket information)"
   ]
  },
  {
   "cell_type": "code",
   "execution_count": 21,
   "metadata": {},
   "outputs": [
    {
     "name": "stdout",
     "output_type": "stream",
     "text": [
      "1309\n",
      "Survived    418\n",
      "Pclass        0\n",
      "Sex           0\n",
      "Age         263\n",
      "SibSp         0\n",
      "Parch         0\n",
      "Fare          1\n",
      "Embarked      2\n",
      "dtype: int64\n"
     ]
    }
   ],
   "source": [
    "df = df.drop(columns=['Name', 'Cabin', 'Ticket'])\n",
    "\n",
    "#check result\n",
    "print(df.shape[0])\n",
    "print(df.isna().sum())"
   ]
  },
  {
   "cell_type": "markdown",
   "metadata": {},
   "source": [
    "missing ages are not calculatable, embarked is only 2 elements, so remove rows with nans"
   ]
  },
  {
   "cell_type": "code",
   "execution_count": 22,
   "metadata": {},
   "outputs": [
    {
     "name": "stdout",
     "output_type": "stream",
     "text": [
      "712\n"
     ]
    }
   ],
   "source": [
    "df = df.dropna()\n",
    "print(df.shape[0])"
   ]
  },
  {
   "cell_type": "markdown",
   "metadata": {},
   "source": [
    "we will create 3 dataframes and 1 series, 1 original dataframe, 1 dataframe with encoded labels and original numbers, 1 dataframe with encoded labels and scaled numbers, series with target"
   ]
  },
  {
   "cell_type": "code",
   "execution_count": 23,
   "metadata": {},
   "outputs": [
    {
     "name": "stdout",
     "output_type": "stream",
     "text": [
      "PassengerId\n",
      "1      0.0\n",
      "2      1.0\n",
      "3      1.0\n",
      "4      1.0\n",
      "5      0.0\n",
      "      ... \n",
      "886    0.0\n",
      "887    0.0\n",
      "888    1.0\n",
      "890    1.0\n",
      "891    0.0\n",
      "Name: Survived, Length: 712, dtype: float64\n"
     ]
    }
   ],
   "source": [
    "X_original = df.drop(columns=['Survived'])\n",
    "to_encode = X_original[['Sex', 'Embarked', 'Pclass']]\n",
    "to_scale = X_original[['Age', 'SibSp','Parch', 'Fare']]\n",
    "y = df['Survived']\n",
    "print(y)\n"
   ]
  },
  {
   "cell_type": "markdown",
   "metadata": {},
   "source": [
    "Check outliers on numerical data"
   ]
  },
  {
   "cell_type": "code",
   "execution_count": 24,
   "metadata": {},
   "outputs": [
    {
     "name": "stdout",
     "output_type": "stream",
     "text": [
      "Age: 8 outliers\n",
      "SibSp: 35 outliers\n",
      "Parch: 15 outliers\n",
      "Fare: 18 outliers\n"
     ]
    }
   ],
   "source": [
    "from scipy.stats import zscore\n",
    "\n",
    "# Calculate Z-scores for each column and count the number of outliers\n",
    "for column in to_scale.columns:\n",
    "    z_scores = zscore(to_scale[column])\n",
    "    outliers_count = (abs(z_scores) > 2.5).sum()  # Count the number of outliers\n",
    "    print(f\"{column}: {outliers_count} outliers\")\n",
    "\n"
   ]
  },
  {
   "cell_type": "markdown",
   "metadata": {},
   "source": [
    "Age is possible to limit\n",
    "SibSp and Parch contain information, we dont limit it\n",
    "Fare is possible to limit"
   ]
  },
  {
   "cell_type": "markdown",
   "metadata": {},
   "source": [
    "create limitations"
   ]
  },
  {
   "cell_type": "code",
   "execution_count": 25,
   "metadata": {},
   "outputs": [
    {
     "name": "stdout",
     "output_type": "stream",
     "text": [
      "Before\n",
      "0.42 80.0\n",
      "0.0 512.3292\n",
      "After\n",
      "0.42 71.0\n",
      "0.0 166.9138718412716\n"
     ]
    }
   ],
   "source": [
    "\n",
    "print(\"Before\")\n",
    "print(to_scale['Age'].min(), to_scale['Age'].max())\n",
    "print(to_scale['Fare'].min(), to_scale['Fare'].max())\n",
    "\n",
    "columns = ['Age', 'Fare']\n",
    "for column in columns:\n",
    "    z_scores = zscore(to_scale[column])\n",
    "    \n",
    "    # Find the threshold values for Z-scores of ±3\n",
    "    upper_limit = to_scale[column].mean() + 2.5 * to_scale[column].std()\n",
    "    lower_limit = to_scale[column].mean() - 2.5 * to_scale[column].std()\n",
    "    \n",
    "    # Cap values in the column based on these limits using .loc\n",
    "    to_scale.loc[z_scores > 3, column] = upper_limit\n",
    "    to_scale.loc[z_scores < -3, column] = lower_limit\n",
    "\n",
    "print(\"After\")\n",
    "print(to_scale['Age'].min(), to_scale['Age'].max())\n",
    "print(to_scale['Fare'].min(), to_scale['Fare'].max())"
   ]
  },
  {
   "cell_type": "markdown",
   "metadata": {},
   "source": [
    "encode"
   ]
  },
  {
   "cell_type": "code",
   "execution_count": 26,
   "metadata": {},
   "outputs": [
    {
     "name": "stdout",
     "output_type": "stream",
     "text": [
      "     Sex_female  Sex_male  Embarked_C  Embarked_Q  Embarked_S  Pclass_1  \\\n",
      "0           0.0       1.0         0.0         0.0         1.0       0.0   \n",
      "1           1.0       0.0         1.0         0.0         0.0       1.0   \n",
      "2           1.0       0.0         0.0         0.0         1.0       0.0   \n",
      "3           1.0       0.0         0.0         0.0         1.0       1.0   \n",
      "4           0.0       1.0         0.0         0.0         1.0       0.0   \n",
      "..          ...       ...         ...         ...         ...       ...   \n",
      "707         1.0       0.0         0.0         1.0         0.0       0.0   \n",
      "708         0.0       1.0         0.0         0.0         1.0       0.0   \n",
      "709         1.0       0.0         0.0         0.0         1.0       1.0   \n",
      "710         0.0       1.0         1.0         0.0         0.0       1.0   \n",
      "711         0.0       1.0         0.0         1.0         0.0       0.0   \n",
      "\n",
      "     Pclass_2  Pclass_3   Age  SibSp  Parch     Fare  \n",
      "0         0.0       1.0  22.0      1      0   7.2500  \n",
      "1         0.0       0.0  38.0      1      0  71.2833  \n",
      "2         0.0       1.0  26.0      0      0   7.9250  \n",
      "3         0.0       0.0  35.0      1      0  53.1000  \n",
      "4         0.0       1.0  35.0      0      0   8.0500  \n",
      "..        ...       ...   ...    ...    ...      ...  \n",
      "707       0.0       1.0  39.0      0      5  29.1250  \n",
      "708       1.0       0.0  27.0      0      0  13.0000  \n",
      "709       0.0       0.0  19.0      0      0  30.0000  \n",
      "710       0.0       0.0  26.0      0      0  30.0000  \n",
      "711       0.0       1.0  32.0      0      0   7.7500  \n",
      "\n",
      "[712 rows x 12 columns]\n"
     ]
    }
   ],
   "source": [
    "from sklearn.preprocessing import OneHotEncoder\n",
    "\n",
    "encoder = OneHotEncoder(sparse_output=False, drop=None)\n",
    "encoded_array = encoder.fit_transform(to_encode)\n",
    "\n",
    "# Convert the encoded array to a DataFrame\n",
    "encoded = pd.DataFrame(encoded_array, columns=encoder.get_feature_names_out(to_encode.columns))\n",
    "\n",
    "# Concatenate with to_scale DataFrame\n",
    "X_encoded = pd.concat([encoded, to_scale.reset_index(drop=True)], axis=1)\n",
    "print(X_encoded)\n",
    "\n",
    "\n"
   ]
  },
  {
   "cell_type": "markdown",
   "metadata": {},
   "source": [
    "check distribution"
   ]
  },
  {
   "cell_type": "code",
   "execution_count": 27,
   "metadata": {},
   "outputs": [
    {
     "name": "stdout",
     "output_type": "stream",
     "text": [
      "[[<Axes: title={'center': 'Age'}> <Axes: title={'center': 'SibSp'}>]\n",
      " [<Axes: title={'center': 'Parch'}> <Axes: title={'center': 'Fare'}>]]\n"
     ]
    },
    {
     "data": {
      "image/png": "[encoded data removed]",
      "text/plain": [
       "<Figure size 640x480 with 4 Axes>"
      ]
     },
     "metadata": {},
     "output_type": "display_data"
    }
   ],
   "source": [
    "print(to_scale.hist())"
   ]
  },
  {
   "cell_type": "markdown",
   "metadata": {},
   "source": [
    "normalise data"
   ]
  },
  {
   "cell_type": "code",
   "execution_count": 28,
   "metadata": {},
   "outputs": [
    {
     "name": "stdout",
     "output_type": "stream",
     "text": [
      "          Age  SibSp     Parch      Fare  Sex_female  Sex_male  Embarked_C  \\\n",
      "0    0.305752    0.2  0.000000  0.043436         0.0       1.0         0.0   \n",
      "1    0.532445    0.2  0.000000  0.427066         1.0       0.0         1.0   \n",
      "2    0.362426    0.0  0.000000  0.047480         1.0       0.0         0.0   \n",
      "3    0.489940    0.2  0.000000  0.318128         1.0       0.0         0.0   \n",
      "4    0.489940    0.0  0.000000  0.048228         0.0       1.0         0.0   \n",
      "..        ...    ...       ...       ...         ...       ...         ...   \n",
      "707  0.546614    0.0  0.833333  0.174491         1.0       0.0         0.0   \n",
      "708  0.376594    0.0  0.000000  0.077884         0.0       1.0         0.0   \n",
      "709  0.263247    0.0  0.000000  0.179733         1.0       0.0         0.0   \n",
      "710  0.362426    0.0  0.000000  0.179733         0.0       1.0         1.0   \n",
      "711  0.447436    0.0  0.000000  0.046431         0.0       1.0         0.0   \n",
      "\n",
      "     Embarked_Q  Embarked_S  Pclass_1  Pclass_2  Pclass_3  \n",
      "0           0.0         1.0       0.0       0.0       1.0  \n",
      "1           0.0         0.0       1.0       0.0       0.0  \n",
      "2           0.0         1.0       0.0       0.0       1.0  \n",
      "3           0.0         1.0       1.0       0.0       0.0  \n",
      "4           0.0         1.0       0.0       0.0       1.0  \n",
      "..          ...         ...       ...       ...       ...  \n",
      "707         1.0         0.0       0.0       0.0       1.0  \n",
      "708         0.0         1.0       0.0       1.0       0.0  \n",
      "709         0.0         1.0       1.0       0.0       0.0  \n",
      "710         0.0         0.0       1.0       0.0       0.0  \n",
      "711         1.0         0.0       0.0       0.0       1.0  \n",
      "\n",
      "[712 rows x 12 columns]\n"
     ]
    }
   ],
   "source": [
    "from sklearn.preprocessing import MinMaxScaler\n",
    "scaler = MinMaxScaler()\n",
    "scaled =pd.DataFrame(scaler.fit_transform(to_scale), columns=to_scale.columns)\n",
    "X_encoded_scaled = pd.concat([scaled, encoded.reset_index(drop=True)], axis=1)\n",
    "print(X_encoded_scaled)"
   ]
  },
  {
   "cell_type": "markdown",
   "metadata": {},
   "source": [
    "Results"
   ]
  },
  {
   "cell_type": "code",
   "execution_count": 29,
   "metadata": {},
   "outputs": [
    {
     "name": "stdout",
     "output_type": "stream",
     "text": [
      "--------------------------------------\n",
      "Original data, unwanted colums are removed, nans are removed\n",
      "             Pclass     Sex   Age  SibSp  Parch     Fare Embarked\n",
      "PassengerId                                                      \n",
      "1                 3    male  22.0      1      0   7.2500        S\n",
      "2                 1  female  38.0      1      0  71.2833        C\n",
      "3                 3  female  26.0      0      0   7.9250        S\n",
      "4                 1  female  35.0      1      0  53.1000        S\n",
      "5                 3    male  35.0      0      0   8.0500        S\n",
      "--------------------------------------\n",
      "Categories are converted\n",
      "   Sex_female  Sex_male  Embarked_C  Embarked_Q  Embarked_S  Pclass_1  \\\n",
      "0         0.0       1.0         0.0         0.0         1.0       0.0   \n",
      "1         1.0       0.0         1.0         0.0         0.0       1.0   \n",
      "2         1.0       0.0         0.0         0.0         1.0       0.0   \n",
      "3         1.0       0.0         0.0         0.0         1.0       1.0   \n",
      "4         0.0       1.0         0.0         0.0         1.0       0.0   \n",
      "\n",
      "   Pclass_2  Pclass_3   Age  SibSp  Parch     Fare  \n",
      "0       0.0       1.0  22.0      1      0   7.2500  \n",
      "1       0.0       0.0  38.0      1      0  71.2833  \n",
      "2       0.0       1.0  26.0      0      0   7.9250  \n",
      "3       0.0       0.0  35.0      1      0  53.1000  \n",
      "4       0.0       1.0  35.0      0      0   8.0500  \n",
      "--------------------------------------\n",
      "Categories are converted, numbers are scaled\n",
      "        Age  SibSp  Parch      Fare  Sex_female  Sex_male  Embarked_C  \\\n",
      "0  0.305752    0.2    0.0  0.043436         0.0       1.0         0.0   \n",
      "1  0.532445    0.2    0.0  0.427066         1.0       0.0         1.0   \n",
      "2  0.362426    0.0    0.0  0.047480         1.0       0.0         0.0   \n",
      "3  0.489940    0.2    0.0  0.318128         1.0       0.0         0.0   \n",
      "4  0.489940    0.0    0.0  0.048228         0.0       1.0         0.0   \n",
      "\n",
      "   Embarked_Q  Embarked_S  Pclass_1  Pclass_2  Pclass_3  \n",
      "0         0.0         1.0       0.0       0.0       1.0  \n",
      "1         0.0         0.0       1.0       0.0       0.0  \n",
      "2         0.0         1.0       0.0       0.0       1.0  \n",
      "3         0.0         1.0       1.0       0.0       0.0  \n",
      "4         0.0         1.0       0.0       0.0       1.0  \n",
      "--------------------------------------\n",
      "y\n",
      "PassengerId\n",
      "1    0.0\n",
      "2    1.0\n",
      "3    1.0\n",
      "4    1.0\n",
      "5    0.0\n",
      "Name: Survived, dtype: float64\n",
      "(712,) (712, 7) (712, 12) (712, 12)\n"
     ]
    }
   ],
   "source": [
    "print(\"--------------------------------------\")\n",
    "print(\"Original data, unwanted colums are removed, nans are removed\")\n",
    "print(X_original.head(5))\n",
    "print(\"--------------------------------------\")\n",
    "print(\"Categories are converted\")\n",
    "print(X_encoded.head(5))\n",
    "print(\"--------------------------------------\")\n",
    "print(\"Categories are converted, numbers are scaled\")\n",
    "print(X_encoded_scaled.head(5))\n",
    "print(\"--------------------------------------\")\n",
    "print(\"y\")\n",
    "print(y.head(5))\n",
    "print(y.shape, X_original.shape, X_encoded.shape, X_encoded_scaled.shape)"
   ]
  },
  {
   "cell_type": "markdown",
   "metadata": {},
   "source": [
    "### export result"
   ]
  },
  {
   "cell_type": "code",
   "execution_count": 30,
   "metadata": {},
   "outputs": [
    {
     "data": {
      "text/plain": [
       "['preprocessed_data\\\\Titanic.pkl']"
      ]
     },
     "execution_count": 30,
     "metadata": {},
     "output_type": "execute_result"
    }
   ],
   "source": [
    "import joblib\n",
    "\n",
    "# Create a dictionary to store all splits\n",
    "data_splits = {\n",
    "    \"X_original\": X_original,\n",
    "    \"X_encoded\": X_encoded,\n",
    "    \"X_encoded_scaled\": X_encoded_scaled,\n",
    "    \"y\": y,\n",
    "}\n",
    "\n",
    "joblib.dump(data_splits, 'preprocessed_data\\\\Titanic.pkl')"
   ]
  }
 ],
 "metadata": {
  "kernelspec": {
   "display_name": "Env_b",
   "language": "python",
   "name": "python3"
  },
  "language_info": {
   "codemirror_mode": {
    "name": "ipython",
    "version": 3
   },
   "file_extension": ".py",
   "mimetype": "text/x-python",
   "name": "python",
   "nbconvert_exporter": "python",
   "pygments_lexer": "ipython3",
   "version": "3.12.7"
  }
 },
 "nbformat": 4,
 "nbformat_minor": 2
}
